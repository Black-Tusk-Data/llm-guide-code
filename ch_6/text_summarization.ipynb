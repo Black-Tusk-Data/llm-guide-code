{
 "cells": [
  {
   "cell_type": "code",
   "execution_count": 1,
   "id": "2afec6b1-0ba9-4734-b913-98c15cf42e59",
   "metadata": {
    "collapsed": false,
    "jupyter": {
     "outputs_hidden": false
    }
   },
   "outputs": [],
   "source": [
    "def get_plaintext_wikipedia_page(title):\n",
    "    import requests\n",
    "    url = f\"https://en.wikipedia.org/w/api.php\"\n",
    "    params = {\n",
    "        \"action\": \"query\",\n",
    "        \"prop\": \"extracts\",\n",
    "        \"explaintext\": True,\n",
    "        \"titles\": title,\n",
    "        \"format\": \"json\"\n",
    "    }\n",
    "    response = requests.get(url, params=params)\n",
    "    data = response.json()\n",
    "    page = next(iter(data['query']['pages'].values()))\n",
    "    return page['extract']"
   ]
  },
  {
   "cell_type": "code",
   "execution_count": 2,
   "id": "d16a5e91-1723-4d58-b918-5378f92d0131",
   "metadata": {
    "collapsed": false,
    "jupyter": {
     "outputs_hidden": false
    }
   },
   "outputs": [
    {
     "name": "stdout",
     "output_type": "stream",
     "text": [
      "Nuclear fusion is a reaction in which two or more atomic nuclei, usually deuterium and tritium (hydrogen isotopes), combine to form one or more different atomic nuclei and subatomic particles (neutrons or protons). The difference in mass between the  ...\n"
     ]
    }
   ],
   "source": [
    "plaintext_contents = get_plaintext_wikipedia_page(\"Nuclear_fusion\")\n",
    "print(plaintext_contents[:250], \"...\")"
   ]
  },
  {
   "cell_type": "code",
   "execution_count": 3,
   "id": "486fddd5-76de-42d4-81e5-d136de2522d5",
   "metadata": {
    "collapsed": false,
    "jupyter": {
     "outputs_hidden": false
    }
   },
   "outputs": [
    {
     "name": "stderr",
     "output_type": "stream",
     "text": [
      "/app/venv/lib/python3.12/site-packages/tqdm/auto.py:21: TqdmWarning: IProgress not found. Please update jupyter and ipywidgets. See https://ipywidgets.readthedocs.io/en/stable/user_install.html\n",
      "  from .autonotebook import tqdm as notebook_tqdm\n"
     ]
    }
   ],
   "source": [
    "import torch\n",
    "from transformers import (\n",
    "    AutoModelForCausalLM,\n",
    "    AutoTokenizer,\n",
    "    pipeline,\n",
    "    BitsAndBytesConfig,\n",
    ")"
   ]
  },
  {
   "cell_type": "code",
   "execution_count": 4,
   "id": "e40307d1-2b2b-4a0f-b10a-c6258a4ac929",
   "metadata": {
    "collapsed": false,
    "jupyter": {
     "outputs_hidden": false
    }
   },
   "outputs": [],
   "source": [
    "model_id = \"microsoft/Phi-3-mini-128k-instruct\""
   ]
  },
  {
   "cell_type": "code",
   "execution_count": 5,
   "id": "880c92ab-9b0e-4756-b30b-f910c5ad34cc",
   "metadata": {
    "collapsed": false,
    "jupyter": {
     "outputs_hidden": false
    }
   },
   "outputs": [
    {
     "name": "stderr",
     "output_type": "stream",
     "text": [
      "Special tokens have been added in the vocabulary, make sure the associated word embeddings are fine-tuned or trained.\n"
     ]
    }
   ],
   "source": [
    "tokenizer = AutoTokenizer.from_pretrained(model_id)"
   ]
  },
  {
   "cell_type": "code",
   "execution_count": 6,
   "id": "b0993b38-69fc-4be8-ae5b-e860da1f2742",
   "metadata": {
    "collapsed": false,
    "jupyter": {
     "outputs_hidden": false
    }
   },
   "outputs": [],
   "source": [
    "quantization_config = BitsAndBytesConfig(\n",
    "    load_in_4bit=True, \n",
    "    bnb_4bit_compute_dtype=torch.float16,\n",
    "    bnb_4bit_quant_type=\"nf4\",\n",
    "    bnb_4bit_use_double_quant=True,\n",
    "    llm_int8_enable_fp32_cpu_offload=True,\n",
    ")"
   ]
  },
  {
   "cell_type": "code",
   "execution_count": 7,
   "id": "8a0985ad-a96d-4a7f-992e-b72e477713a0",
   "metadata": {
    "collapsed": false,
    "jupyter": {
     "outputs_hidden": false
    }
   },
   "outputs": [
    {
     "name": "stderr",
     "output_type": "stream",
     "text": [
      "Loading checkpoint shards: 100%|█████████████████████████████████████████████████████████████████████████████████████████████████████████████████| 2/2 [00:02<00:00,  1.37s/it]\n"
     ]
    }
   ],
   "source": [
    "model = AutoModelForCausalLM.from_pretrained(\n",
    "    model_id,\n",
    "    device_map=\"cuda\",\n",
    "    torch_dtype=\"auto\",\n",
    "    trust_remote_code=True,\n",
    "    attn_implementation=\"flash_attention_2\",\n",
    "    quantization_config=quantization_config,\n",
    ")"
   ]
  },
  {
   "cell_type": "code",
   "execution_count": 8,
   "id": "1f0c93c3-a81b-4fc9-8ed4-8d40d3118069",
   "metadata": {
    "collapsed": false,
    "jupyter": {
     "outputs_hidden": false
    }
   },
   "outputs": [],
   "source": [
    "pipe = pipeline( \n",
    "    \"text-generation\", \n",
    "    model=model, \n",
    "    tokenizer=tokenizer, \n",
    ") "
   ]
  },
  {
   "cell_type": "code",
   "execution_count": 9,
   "id": "5e9cdb7b-dd88-474e-ab99-122fb2e90e7a",
   "metadata": {
    "collapsed": false,
    "jupyter": {
     "outputs_hidden": false
    }
   },
   "outputs": [
    {
     "name": "stdout",
     "output_type": "stream",
     "text": [
      " Nuclear fusion is the process where atomic nuclei combine to form heavier nuclei, releasing energy due to the difference in nuclear binding energy. It powers stars and synthesizes elements, with hydrogen fusing into helium in the Sun's core. The process requires overcoming the Coulomb barrier, which can be achieved through high temperatures and quantum tunneling. The most promising reactions for energy production are those that are exothermic, involve low atomic number nuclei, and produce neutrons for tritium breeding. The ITER project aims to create a toroidal reactor for controlled fusion, while private companies are developing commercial technologies. Break-even fusion was achieved in 2022, and research continues to overcome challenges like plasma confinement and energy extraction. Fusion offers a potential reduction in carbon footprint and a high energy density compared to chemical reactions.\n"
     ]
    }
   ],
   "source": [
    "result = pipe(\n",
    "    [\n",
    "        {\"role\": \"system\", \"content\": \"You are a helpful nuclear fusion expert.\"}, \n",
    "        {\"role\": \"user\", \"content\": \"\\n\".join([\n",
    "            \"Summarize the following article succinctly in less than 250 words:\",\n",
    "            \"---- BEGIN ARTICLE ----\",\n",
    "            plaintext_contents,\n",
    "            \"---- END ARTICLE ----\",\n",
    "        ])}\n",
    "    ],\n",
    "    max_new_tokens=300,\n",
    ")\n",
    "print(result[0][\"generated_text\"][-1][\"content\"])"
   ]
  }
 ],
 "metadata": {
  "kernelspec": {
   "display_name": "Python 3 (ipykernel)",
   "language": "python",
   "name": "python3"
  },
  "language_info": {
   "codemirror_mode": {
    "name": "ipython",
    "version": 3
   },
   "file_extension": ".py",
   "mimetype": "text/x-python",
   "name": "python",
   "nbconvert_exporter": "python",
   "pygments_lexer": "ipython3",
   "version": "3.12.7"
  },
  "name": "text_summarization.ipynb"
 },
 "nbformat": 4,
 "nbformat_minor": 5
}
