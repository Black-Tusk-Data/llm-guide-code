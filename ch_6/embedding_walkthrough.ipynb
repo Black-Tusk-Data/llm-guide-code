{
 "cells": [
  {
   "cell_type": "code",
   "execution_count": 1,
   "id": "0f6f99fe-fc1d-4a80-a048-5a891b01b1e3",
   "metadata": {},
   "outputs": [
    {
     "name": "stderr",
     "output_type": "stream",
     "text": [
      "/app/venv/lib/python3.12/site-packages/tqdm/auto.py:21: TqdmWarning: IProgress not found. Please update jupyter and ipywidgets. See https://ipywidgets.readthedocs.io/en/stable/user_install.html\n",
      "  from .autonotebook import tqdm as notebook_tqdm\n"
     ]
    }
   ],
   "source": [
    "from pathlib import Path\n",
    "import itertools\n",
    "import urllib.request\n",
    "\n",
    "import numpy as np\n",
    "from numpy.linalg import norm\n",
    "import pandas as pd\n",
    "from transformers import AutoModel\n",
    "import zipfile"
   ]
  },
  {
   "cell_type": "code",
   "execution_count": 2,
   "id": "1d6cb278-4d5b-4608-b3dc-45383954739a",
   "metadata": {},
   "outputs": [],
   "source": [
    "model_id = \"jinaai/jina-embeddings-v2-base-en\""
   ]
  },
  {
   "cell_type": "code",
   "execution_count": 3,
   "id": "c3292715-0722-492c-940a-1ff48c759a61",
   "metadata": {},
   "outputs": [],
   "source": [
    "model = AutoModel.from_pretrained(\n",
    "    model_id,\n",
    "    trust_remote_code=True,\n",
    ")"
   ]
  },
  {
   "cell_type": "code",
   "execution_count": 4,
   "id": "94ce32bb-f66b-486f-8050-916c783db591",
   "metadata": {},
   "outputs": [],
   "source": [
    "texts = [\n",
    "    \"Dinosaurs once roamed the earth\",\n",
    "    \"The triceratops lived in what is now western North America\",\n",
    "    \"Black Monday refers to a stock market crash that occured on October 19, 1987\"\n",
    "]\n",
    "embeddings = model.encode(texts)"
   ]
  },
  {
   "cell_type": "code",
   "execution_count": 5,
   "id": "16f0803a-ac00-43f1-a4d4-869bf80a41d6",
   "metadata": {},
   "outputs": [
    {
     "data": {
      "text/plain": [
       "array([[-0.2775978 , -0.43230128,  0.42803136, ...,  0.5659601 ,\n",
       "        -0.47726437, -0.8063539 ],\n",
       "       [-0.550837  , -0.60276926,  0.6015245 , ...,  0.28022295,\n",
       "        -0.26890475, -0.56855124],\n",
       "       [ 0.01751115, -0.9987813 ,  0.2592022 , ...,  0.9591321 ,\n",
       "        -0.29912838, -0.54930294]], dtype=float32)"
      ]
     },
     "execution_count": 5,
     "metadata": {},
     "output_type": "execute_result"
    }
   ],
   "source": [
    "embeddings"
   ]
  },
  {
   "cell_type": "code",
   "execution_count": 6,
   "id": "e2b97fa6-d5b3-4b78-9e26-8dad308d8086",
   "metadata": {},
   "outputs": [],
   "source": [
    "def cosine_distance(a, b):\n",
    "    return np.dot(a, b) / (norm(a) * norm(b))"
   ]
  },
  {
   "cell_type": "code",
   "execution_count": 7,
   "id": "10c7a3dc-8b76-4d94-a9bc-6e926fe778ba",
   "metadata": {},
   "outputs": [],
   "source": [
    "distances = [\n",
    "    [\n",
    "        cosine_distance(embeddings[i], embeddings[j])\n",
    "        for j in range(len(embeddings))\n",
    "    ]\n",
    "    for i in range(len(embeddings))\n",
    "]\n"
   ]
  },
  {
   "cell_type": "code",
   "execution_count": 8,
   "id": "885c689a-120d-419a-b383-5c6769aa867b",
   "metadata": {},
   "outputs": [
    {
     "data": {
      "text/html": [
       "<div>\n",
       "<style scoped>\n",
       "    .dataframe tbody tr th:only-of-type {\n",
       "        vertical-align: middle;\n",
       "    }\n",
       "\n",
       "    .dataframe tbody tr th {\n",
       "        vertical-align: top;\n",
       "    }\n",
       "\n",
       "    .dataframe thead th {\n",
       "        text-align: right;\n",
       "    }\n",
       "</style>\n",
       "<table border=\"1\" class=\"dataframe\">\n",
       "  <thead>\n",
       "    <tr style=\"text-align: right;\">\n",
       "      <th></th>\n",
       "      <th>Dinosaurs once roamed the earth</th>\n",
       "      <th>The triceratops lived in what is now western North America</th>\n",
       "      <th>Black Monday refers to a stock market crash that occured on October 19, 1987</th>\n",
       "    </tr>\n",
       "  </thead>\n",
       "  <tbody>\n",
       "    <tr>\n",
       "      <th>Dinosaurs once roamed the earth</th>\n",
       "      <td>1.000000</td>\n",
       "      <td>0.720321</td>\n",
       "      <td>0.569723</td>\n",
       "    </tr>\n",
       "    <tr>\n",
       "      <th>The triceratops lived in what is now western North America</th>\n",
       "      <td>0.720321</td>\n",
       "      <td>1.000000</td>\n",
       "      <td>0.555390</td>\n",
       "    </tr>\n",
       "    <tr>\n",
       "      <th>Black Monday refers to a stock market crash that occured on October 19, 1987</th>\n",
       "      <td>0.569723</td>\n",
       "      <td>0.555390</td>\n",
       "      <td>1.000000</td>\n",
       "    </tr>\n",
       "  </tbody>\n",
       "</table>\n",
       "</div>"
      ],
      "text/plain": [
       "                                                    Dinosaurs once roamed the earth  \\\n",
       "Dinosaurs once roamed the earth                                            1.000000   \n",
       "The triceratops lived in what is now western No...                         0.720321   \n",
       "Black Monday refers to a stock market crash tha...                         0.569723   \n",
       "\n",
       "                                                    The triceratops lived in what is now western North America  \\\n",
       "Dinosaurs once roamed the earth                                                              0.720321            \n",
       "The triceratops lived in what is now western No...                                           1.000000            \n",
       "Black Monday refers to a stock market crash tha...                                           0.555390            \n",
       "\n",
       "                                                    Black Monday refers to a stock market crash that occured on October 19, 1987  \n",
       "Dinosaurs once roamed the earth                                                              0.569723                             \n",
       "The triceratops lived in what is now western No...                                           0.555390                             \n",
       "Black Monday refers to a stock market crash tha...                                           1.000000                             "
      ]
     },
     "execution_count": 8,
     "metadata": {},
     "output_type": "execute_result"
    }
   ],
   "source": [
    "pd.DataFrame(distances, index=texts, columns=texts)"
   ]
  }
 ],
 "metadata": {
  "kernelspec": {
   "display_name": "Python 3 (ipykernel)",
   "language": "python",
   "name": "python3"
  },
  "language_info": {
   "codemirror_mode": {
    "name": "ipython",
    "version": 3
   },
   "file_extension": ".py",
   "mimetype": "text/x-python",
   "name": "python",
   "nbconvert_exporter": "python",
   "pygments_lexer": "ipython3",
   "version": "3.12.7"
  }
 },
 "nbformat": 4,
 "nbformat_minor": 5
}
